{
 "cells": [
  {
   "cell_type": "markdown",
   "id": "401f7468-b3b9-4887-af4b-d99d12703e68",
   "metadata": {},
   "source": [
    "Import libraries"
   ]
  },
  {
   "cell_type": "code",
   "execution_count": 459,
   "id": "ad85b96f-74c5-4be0-9785-4f46a9bfe7c8",
   "metadata": {},
   "outputs": [],
   "source": [
    "import numpy as np\n",
    "import pennylane as qml\n",
    "from qiskit import QuantumCircuit\n",
    "from qiskit.circuit import Parameter\n",
    "from pennylane import numpy as pnp"
   ]
  },
  {
   "cell_type": "markdown",
   "id": "de08ff7a-1eb8-4fa4-9d7a-30baaa04d4c5",
   "metadata": {},
   "source": [
    "QDI layer"
   ]
  },
  {
   "cell_type": "code",
   "execution_count": 460,
   "id": "e361b1a2-7c00-4823-b6ac-1b040d0b9db5",
   "metadata": {},
   "outputs": [],
   "source": [
    "def qdi_layer(n_qubits, parameters, m, d):\n",
    "    circuit = QuantumCircuit(n_qubits)\n",
    "    param_index = 0\n",
    "\n",
    "    \n",
    "    for i in range(m):\n",
    "        # Apply parameterized gates\n",
    "        for qubit in range(n_qubits):\n",
    "            circuit.rx(parameters[param_index], qubit)\n",
    "            param_index += 1\n",
    "        # Apply CNOT gates for entanglement\n",
    "        for qubit in range(n_qubits - 1):\n",
    "            circuit.cx(qubit, qubit + 1)\n",
    "        circuit.cx(n_qubits - 1, 0)\n",
    "\n",
    "    for i in range(d):\n",
    "        for qubit in range(n_qubits):\n",
    "            circuit.rz(parameters[param_index], qubit)\n",
    "            param_index += 1\n",
    "\n",
    "        for j in range(m):\n",
    "            # Apply parameterized gates\n",
    "            for qubit in range(n_qubits):\n",
    "                circuit.rx(parameters[param_index], qubit)\n",
    "                param_index += 1\n",
    "            # Apply CNOT gates for entanglement\n",
    "            for qubit in range(n_qubits - 1):\n",
    "                circuit.cx(qubit, qubit + 1)\n",
    "            circuit.cx(n_qubits - 1, 0)\n",
    "\n",
    "    \n",
    "    return circuit"
   ]
  },
  {
   "cell_type": "markdown",
   "id": "2f39ac1e-3992-4a5c-86c3-5177682732a6",
   "metadata": {},
   "source": [
    "PQN"
   ]
  },
  {
   "cell_type": "code",
   "execution_count": 461,
   "id": "e9404687-8919-4be1-992d-e5d59689ac9c",
   "metadata": {},
   "outputs": [],
   "source": [
    "def pqn_layer(n_qubits, parameters, i):\n",
    "    circuit = QuantumCircuit(n_qubits)\n",
    "    param_index = 0\n",
    "\n",
    "    for qubit in range(n_qubits):\n",
    "            circuit.rx(parameters[param_index], qubit)\n",
    "            param_index += 1\n",
    "    \n",
    "    for k in range(i):\n",
    "        # Apply parameterized gates\n",
    "        for qubit in range(n_qubits):\n",
    "            circuit.rz(parameters[param_index], qubit)\n",
    "            param_index += 1\n",
    "            circuit.ry(parameters[param_index], qubit)\n",
    "            param_index += 1\n",
    "            circuit.rz(parameters[param_index], qubit)\n",
    "            param_index += 1\n",
    "        # Apply CNOT gates for entanglement\n",
    "        for qubit in range(n_qubits - 1):\n",
    "            circuit.cx(qubit, qubit + 1)\n",
    "        circuit.cx(n_qubits - 1, 0)\n",
    "    \n",
    "    return circuit\n"
   ]
  },
  {
   "cell_type": "markdown",
   "id": "8992cf98-0039-4fc6-af8f-3ed29a0a5785",
   "metadata": {},
   "source": [
    "EFQ"
   ]
  },
  {
   "cell_type": "code",
   "execution_count": null,
   "id": "6f8426a5-0c97-41af-a475-142988b55f9e",
   "metadata": {},
   "outputs": [],
   "source": []
  },
  {
   "cell_type": "markdown",
   "id": "87379b41-f40b-49f5-96e3-1ab3ef9d686a",
   "metadata": {},
   "source": [
    "Circuit function layer thing"
   ]
  },
  {
   "cell_type": "code",
   "execution_count": 462,
   "id": "8d3248e3-4592-417f-b55b-7f21435b421f",
   "metadata": {},
   "outputs": [],
   "source": [
    "def strong_layer(n_qubits, parameters, i):\n",
    "    circuit = QuantumCircuit(n_qubits)\n",
    "    param_index = 0\n",
    "    \n",
    "    for k in range(i):\n",
    "        # Apply parameterized gates\n",
    "        for qubit in range(n_qubits):\n",
    "            circuit.rx(parameters[param_index], qubit)\n",
    "            param_index += 1\n",
    "            circuit.ry(parameters[param_index], qubit)\n",
    "            param_index += 1\n",
    "            circuit.rz(parameters[param_index], qubit)\n",
    "            param_index += 1\n",
    "        # Apply CNOT gates for entanglement\n",
    "        for qubit in range(n_qubits - 1):\n",
    "            circuit.cx(qubit, qubit + 1)\n",
    "        circuit.cx(n_qubits - 1, 0)\n",
    "    \n",
    "    return circuit\n"
   ]
  },
  {
   "cell_type": "markdown",
   "id": "8c0588e8-63cf-49ff-a06d-0c7f53486549",
   "metadata": {},
   "source": [
    "Generate Bars and Stripes dataset"
   ]
  },
  {
   "cell_type": "code",
   "execution_count": 463,
   "id": "eb613b35-f923-4dc6-8b31-e31a7985d2a2",
   "metadata": {},
   "outputs": [],
   "source": [
    "def get_bars_and_stripes(n):\n",
    "    bitstrings = [list(np.binary_repr(i, n))[::-1] for i in range(2**n)]\n",
    "    bitstrings = np.array(bitstrings, dtype=int)\n",
    "\n",
    "    stripes = bitstrings.copy()\n",
    "    stripes = np.repeat(stripes, n, 0)\n",
    "    stripes = stripes.reshape(2**n, n * n)\n",
    "\n",
    "    bars = bitstrings.copy()\n",
    "    bars = bars.reshape(2**n * n, 1)\n",
    "    bars = np.repeat(bars, n, 1)\n",
    "    bars = bars.reshape(2**n, n * n)\n",
    "    return np.vstack((stripes[0 : stripes.shape[0] - 1], bars[1 : bars.shape[0]]))\n",
    "\n",
    "\n",
    "n = 3\n",
    "size = n**2\n",
    "n_qubits = size\n",
    "data = get_bars_and_stripes(n)\n",
    "\n",
    "bitstrings = []\n",
    "nums = []\n",
    "for d in data:\n",
    "    bitstrings += [\"\".join(str(int(i)) for i in d)]\n",
    "    nums += [int(bitstrings[-1], 2)]\n",
    "probs = np.zeros(2**size)\n",
    "probs[nums] = 1 / len(data)\n",
    "\n"
   ]
  },
  {
   "cell_type": "markdown",
   "id": "a7827a0d-e7e4-49c7-a04a-52af6b4b155f",
   "metadata": {},
   "source": [
    "Define the quantum circuit with Qiskit and Define the hybrid model in PennyLane"
   ]
  },
  {
   "cell_type": "code",
   "execution_count": 1,
   "id": "aebd562a-642c-4f78-bd44-1e41e02eba49",
   "metadata": {},
   "outputs": [
    {
     "ename": "NameError",
     "evalue": "name 'n_qubits' is not defined",
     "output_type": "error",
     "traceback": [
      "\u001b[0;31m---------------------------------------------------------------------------\u001b[0m",
      "\u001b[0;31mNameError\u001b[0m                                 Traceback (most recent call last)",
      "Cell \u001b[0;32mIn[1], line 7\u001b[0m\n\u001b[1;32m      3\u001b[0m \u001b[38;5;28;01mimport\u001b[39;00m \u001b[38;5;21;01mmatplotlib\u001b[39;00m\u001b[38;5;21;01m.\u001b[39;00m\u001b[38;5;21;01mpyplot\u001b[39;00m \u001b[38;5;28;01mas\u001b[39;00m \u001b[38;5;21;01mplt\u001b[39;00m\n\u001b[1;32m      4\u001b[0m \u001b[38;5;28;01mfrom\u001b[39;00m \u001b[38;5;21;01mpennylane_qiskit\u001b[39;00m \u001b[38;5;28;01mimport\u001b[39;00m AerDevice\n\u001b[0;32m----> 7\u001b[0m dev \u001b[38;5;241m=\u001b[39m AerDevice(wires\u001b[38;5;241m=\u001b[39m\u001b[43mn_qubits\u001b[49m, backend\u001b[38;5;241m=\u001b[39m\u001b[38;5;124m'\u001b[39m\u001b[38;5;124maer_simulator\u001b[39m\u001b[38;5;124m'\u001b[39m)\n\u001b[1;32m      8\u001b[0m \u001b[38;5;66;03m#dev = qml.device(\"lightning.gpu\", wires=n_qubits)\u001b[39;00m\n",
      "\u001b[0;31mNameError\u001b[0m: name 'n_qubits' is not defined"
     ]
    }
   ],
   "source": [
    "from pennylane import numpy as pnp\n",
    "from scipy.optimize import minimize\n",
    "import matplotlib.pyplot as plt\n",
    "from pennylane_qiskit import AerDevice\n",
    "\n",
    "\n",
    "dev = AerDevice(wires=n_qubits, backend='aer_simulator')\n",
    "#dev = qml.device(\"lightning.gpu\", wires=n_qubits)"
   ]
  },
  {
   "cell_type": "markdown",
   "id": "ef86af9c-26fe-44b4-83d6-ea6cdf2275e3",
   "metadata": {},
   "source": [
    "Circuit"
   ]
  },
  {
   "cell_type": "code",
   "execution_count": null,
   "id": "1abebad2-5069-45bf-9fcf-c879aa0fd70b",
   "metadata": {},
   "outputs": [],
   "source": [
    "@qml.qnode(dev)\n",
    "def circuit(parameters):\n",
    "    #circuit = strong_layer(n_qubits, params, 6)\n",
    "    #measurements = qml.from_qiskit(circuit)()\n",
    "    param_index=0\n",
    "    for i in range(4):\n",
    "        for qubit in range(n_qubits):\n",
    "            qml.RX(parameters[param_index], wires=qubit)\n",
    "            param_index += 1\n",
    "            qml.RY(parameters[param_index], wires=qubit)\n",
    "            param_index += 1\n",
    "            qml.RZ(parameters[param_index], wires=qubit)\n",
    "            param_index += 1\n",
    "        # Apply CNOT gates for entanglement\n",
    "        for qubit in range(n_qubits - 1):\n",
    "            qml.CNOT(wires=[qubit, qubit + 1])\n",
    "        qml.CNOT(wires=[n_qubits - 1, 0])\n",
    "    \n",
    "    return qml.probs(wires=range(n_qubits))"
   ]
  },
  {
   "cell_type": "markdown",
   "id": "0dfe0cb3-5684-40c2-94a9-06798555aae0",
   "metadata": {},
   "source": [
    "Cost function"
   ]
  },
  {
   "cell_type": "code",
   "execution_count": null,
   "id": "ea0467e0-2259-4dc8-b339-7c5c85b8be7c",
   "metadata": {},
   "outputs": [],
   "source": [
    "def cost(params):\n",
    "    output_probs = circuit(params)\n",
    "    \n",
    "    target_probs = probs\n",
    "    cost_value = np.sum( np.abs(target_probs-output_probs))\n",
    "    return cost_value"
   ]
  },
  {
   "cell_type": "markdown",
   "id": "d079e236-a651-41a0-b722-a14ea7eaf187",
   "metadata": {},
   "source": [
    "MMD Cost function"
   ]
  },
  {
   "cell_type": "code",
   "execution_count": null,
   "id": "8720e35d-0cbf-4521-af90-803d35a388d7",
   "metadata": {},
   "outputs": [],
   "source": [
    "\n",
    "class MMD:\n",
    "\n",
    "    def __init__(self, scales, space):\n",
    "        gammas = 1 / (2 * (scales**2))\n",
    "        sq_dists = pnp.abs(space[:, None] - space[None, :]) ** 2\n",
    "        self.K = sum(pnp.exp(-gamma * sq_dists) for gamma in gammas) / len(scales)\n",
    "        self.scales = scales\n",
    "\n",
    "    def k_expval(self, px, py):\n",
    "        # Kernel expectation value\n",
    "        return px @ self.K @ py\n",
    "\n",
    "    def __call__(self, px, py):\n",
    "        pxy = px - py\n",
    "        return self.k_expval(pxy, pxy)\n",
    "\n",
    "bandwidth = np.array([0.25, 0.5, 1])\n",
    "space = np.arange(2**n_qubits)\n",
    "\n",
    "mmd = MMD(bandwidth, space)\n",
    "def mmd_cost(params):\n",
    "    output_probs = circuit(params)\n",
    "    target_probs = probs\n",
    "    loss = mmd.k_expval(target_probs, target_probs) - 2 * mmd.k_expval(target_probs, output_probs) + mmd.k_expval(output_probs, output_probs)\n",
    "    return loss"
   ]
  },
  {
   "cell_type": "markdown",
   "id": "56dbf350-c34d-4aa4-8aac-18c1b091af3f",
   "metadata": {},
   "source": [
    "Optimize the quantum circuit"
   ]
  },
  {
   "cell_type": "code",
   "execution_count": null,
   "id": "4d18c500-c1d1-47fb-83a4-4c8ad371704b",
   "metadata": {},
   "outputs": [],
   "source": [
    "#init_params = np.random.random(n_qubits*4)\n",
    "params = pnp.random.uniform(size=n_qubits*4*3, requires_grad=True)\n",
    "#result = minimize(cost, init_params, method='COBYLA')\n",
    "#optimal_params = result.x\n",
    "\n",
    "# Evaluate and visualize the results\n",
    "opt = qml.AdamOptimizer(stepsize=0.1)\n",
    "steps = 100\n",
    "history = []\n",
    "for step in range(steps):\n",
    "    params, prev_cost = opt.step_and_cost(mmd_cost, params)\n",
    "    if step % 10 == 0:\n",
    "        print(f\"Step {step}, Cost: {mmd_cost(params)}\")\n",
    "\n",
    "    history.append(mmd_cost(params))\n",
    "optimal_params = params\n",
    "output_probs = circuit(optimal_params)\n",
    "\n",
    "print(optimal_params)\n",
    "print(output_probs)"
   ]
  },
  {
   "cell_type": "markdown",
   "id": "c3743563-aee7-4081-830d-50550cf62061",
   "metadata": {},
   "source": [
    "Plot histograms"
   ]
  },
  {
   "cell_type": "code",
   "execution_count": null,
   "id": "7ee1416c-fc6f-4019-afcf-aade955404b0",
   "metadata": {},
   "outputs": [],
   "source": [
    "probs = np.zeros(2**size)\n",
    "probs[nums] = 1 / len(data)\n",
    "\n",
    "plt.figure(figsize=(12, 5))\n",
    "plt.bar(np.arange(2**size), probs, width=2.0, label=r\"$\\pi(x)$\", color='blue')\n",
    "plt.bar(np.arange(2**size), output_probs, width=2.0, label=r\"$p(x)$\",color='red')\n",
    "\n",
    "plt.xticks(nums, bitstrings, rotation=80)\n",
    "\n",
    "plt.xlabel(\"Samples\")\n",
    "plt.ylabel(\"Prob. Distribution\")\n",
    "plt.legend(loc=\"upper right\")\n",
    "plt.subplots_adjust(bottom=0.3)\n",
    "plt.show()"
   ]
  },
  {
   "cell_type": "code",
   "execution_count": null,
   "id": "a5d8c187-0b8c-49f4-bb00-8b1b27eb61bd",
   "metadata": {},
   "outputs": [],
   "source": [
    "acr=0\n",
    "for i in nums:\n",
    "    acr+=output_probs[i]\n",
    "print(acr)"
   ]
  },
  {
   "cell_type": "code",
   "execution_count": null,
   "id": "f02aeead-c69c-4409-96de-c048c2f9acfa",
   "metadata": {},
   "outputs": [],
   "source": [
    "plt.plot(history)\n",
    "\n",
    "plt.show()"
   ]
  },
  {
   "cell_type": "code",
   "execution_count": null,
   "id": "e1174945-034f-46a8-8708-6817bc094af1",
   "metadata": {},
   "outputs": [],
   "source": []
  }
 ],
 "metadata": {
  "kernelspec": {
   "display_name": "Python 3 (ipykernel)",
   "language": "python",
   "name": "python3"
  },
  "language_info": {
   "codemirror_mode": {
    "name": "ipython",
    "version": 3
   },
   "file_extension": ".py",
   "mimetype": "text/x-python",
   "name": "python",
   "nbconvert_exporter": "python",
   "pygments_lexer": "ipython3",
   "version": "3.10.12"
  }
 },
 "nbformat": 4,
 "nbformat_minor": 5
}
